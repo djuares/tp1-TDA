{
 "cells": [
  {
   "cell_type": "markdown",
   "id": "b6966864",
   "metadata": {},
   "source": [
    "# Generador de set datos"
   ]
  },
  {
   "cell_type": "markdown",
   "id": "ac4842a7",
   "metadata": {},
   "source": [
    "Creamos la funcion para generar arreglos ajustables segun:\n",
    "- La cantidad de arreglos\n",
    "- El tamaño de estos arreglos\n",
    "- Los valores que puede tomar cada elemento del arreglo\n",
    "- Semilla para reproducir el mismo resultado"
   ]
  },
  {
   "cell_type": "code",
   "execution_count": 21,
   "id": "b23b312d",
   "metadata": {},
   "outputs": [],
   "source": [
    "import random\n",
    "from problema_2 import algoritmo_greedy\n",
    "\n",
    "# --- Función para generar arreglos ajustables ---\n",
    "def generate_random_arrays(\n",
    "    num_arrays: int = 20,\n",
    "    size_range: tuple[int, int] = (5, 15),\n",
    "    value_range: tuple[int, int] = (-5, 5),\n",
    "    seed: int = 12345\n",
    "):\n",
    "    random.seed(seed)\n",
    "    arrays = []\n",
    "    for _ in range(num_arrays):\n",
    "        size = random.randint(*size_range)\n",
    "        arr = [random.randint(*value_range) for _ in range(size)]\n",
    "        arrays.append(arr)\n",
    "    return arrays"
   ]
  },
  {
   "cell_type": "markdown",
   "id": "2a0b2728",
   "metadata": {},
   "source": [
    "Generamos los arreglos para el set de datos:"
   ]
  },
  {
   "cell_type": "code",
   "execution_count": 22,
   "id": "e5999c41",
   "metadata": {},
   "outputs": [],
   "source": [
    "arrays = generate_random_arrays(\n",
    "    num_arrays=20,\n",
    "    size_range=(5, 20),\n",
    "    value_range=(-5, 5),\n",
    "    seed=12345\n",
    ")"
   ]
  },
  {
   "cell_type": "markdown",
   "id": "697719a7",
   "metadata": {},
   "source": [
    "Aplicamos el algoritmo a este set de datos y guardamos los resultados en un .txt"
   ]
  },
  {
   "cell_type": "code",
   "execution_count": null,
   "id": "59a6308b",
   "metadata": {},
   "outputs": [],
   "source": [
    "with open(\"resultados_set_datos.txt\", \"w\") as f:\n",
    "    for i, arr in enumerate(arrays, 1):\n",
    "        res = algoritmo_greedy(arr)\n",
    "        f.write(f\"Arreglo {i} (tamaño {len(arr)}): {arr}\\n\")\n",
    "        f.write(f\"Resultado algoritmo: {res}\\n\")\n",
    "        f.write(\"-\" * 50 + \"\\n\")\n",
    "\n",
    "print(\"Se generaron los resultados y se guardaron en 'resultados_set_datos.txt'.\")\n"
   ]
  },
  {
   "cell_type": "markdown",
   "id": "88bc96ef",
   "metadata": {},
   "source": [
    "# Tests"
   ]
  },
  {
   "cell_type": "markdown",
   "id": "bb2bc90a",
   "metadata": {},
   "source": [
    "Adicionalmente generamos un set de datos manualmente los cuales se usaron para testear el funcionamiento del algoritmo:"
   ]
  },
  {
   "cell_type": "code",
   "execution_count": 17,
   "id": "6d2d609e",
   "metadata": {},
   "outputs": [
    {
     "name": "stdout",
     "output_type": "stream",
     "text": [
      "{0: 2, 1: 7, 2: -3, 3: 1, 4: -5, 5: 3, 6: -2, 7: 5, 8: -2, 9: 7, 10: 2, 11: 4, 12: 0}\n",
      "✅ Test 1 OK: resultado=3\n",
      "{0: -1, 1: 5, 2: -1, 3: 5, 4: 0}\n",
      "✅ Test 2 OK: resultado=1\n",
      "{0: -4, 1: 2, 2: -3, 3: -3, 4: 0}\n",
      "✅ Test 3 OK: resultado=0\n",
      "{0: -3, 1: 0, 2: 1, 3: 0}\n",
      "✅ Test 4 OK: resultado=0\n",
      "{0: -2, 1: 1, 2: 2, 3: 0}\n",
      "✅ Test 5 OK: resultado=1\n",
      "{0: 3, 1: -1, 2: 0}\n",
      "✅ Test 6 OK: resultado=1\n",
      "{0: 1, 1: -1, 2: -1, 3: 0}\n",
      "✅ Test 7 OK: resultado=1\n",
      "{0: 3, 1: 2, 2: 1, 3: -1, 4: -1, 5: -1, 6: -1, 7: -1, 8: -1, 9: -1, 10: 0}\n",
      "✅ Test 8 OK: resultado=1\n",
      "{0: 3, 1: 2, 2: 1, 3: -1, 4: -1, 5: -1, 6: -1, 7: -1, 8: 0}\n",
      "✅ Test 9 OK: resultado=1\n",
      "{0: 3, 1: 2, 2: 1, 3: -5, 4: 0}\n",
      "✅ Test 10 OK: resultado=1\n",
      "{0: 1, 1: 4, 2: -4, 3: 2, 4: -3, 5: -3, 6: 0}\n",
      "✅ Test 11 OK: resultado=1\n",
      "{0: -4, 1: 2, 2: 0}\n",
      "✅ Test 12 OK: resultado=0\n",
      "{0: 2, 1: -1, 2: 0, 3: 1, 4: 2, 5: 1, 6: -1, 7: -1, 8: 0}\n",
      "✅ Test 13 OK: resultado=1\n",
      "{0: -2, 1: 2, 2: -1, 3: 2, 4: 0}\n",
      "✅ Test 14 OK: resultado=1\n",
      "{0: 6, 1: 5, 2: 4, 3: 3, 4: 2, 5: 1, 6: -1, 7: 0}\n",
      "✅ Test 15 OK: resultado=1\n",
      "{0: 5, 1: 4, 2: 3, 3: 2, 4: 1, 5: 0}\n",
      "✅ Test 16 OK: resultado=1\n",
      "{0: 0}\n",
      "✅ Test 17 OK: resultado=0\n",
      "{0: 0}\n",
      "✅ Test 18 OK: resultado=0\n",
      "{0: 0, 1: 0, 2: 0, 3: 0, 4: 0, 5: 0, 6: 0}\n",
      "✅ Test 19 OK: resultado=0\n",
      "{-1: 0}\n",
      "✅ Test 20 OK: resultado=0\n",
      "{0: -1, 1: 0, 2: 1, 3: -1, 4: -1, 5: -1, 6: 0}\n",
      "✅ Test 21 OK: resultado=0\n",
      "{0: 10, 1: -100, 2: -80, 3: 20, 4: 10, 5: 0}\n",
      "✅ Test 22 OK: resultado=2\n",
      "{0: 5, 1: 4, 2: 0}\n",
      "✅ Test 23 OK: resultado=1\n",
      "{0: 10, 1: -100, 2: -80, 3: 20, 4: 10, 5: -1, 6: -2, 7: -3, 8: -100, 9: 0}\n",
      "✅ Test 24 OK: resultado=2\n",
      "{0: 830, 1: 820, 2: 920, 3: 910, 4: 900, 5: 1000, 6: 0}\n",
      "✅ Test 25 OK: resultado=1\n",
      "{0: -1, 1: -1, 2: -1, 3: -1, 4: 0}\n",
      "✅ Test 26 OK: resultado=0\n"
     ]
    }
   ],
   "source": [
    "tests = [\n",
    "    ([3, -5, 7, -4, 1, -8, 3, -7, 5, -9, 5, -2, 4], 3),\n",
    "    ([5, -6, 5, -6, 5], 1),\n",
    "    ([4, -6, 2, -3, -3], 0),\n",
    "    ([-2, -3, -1, 1], 0),\n",
    "    ([-2, -3, -1, 2], 1),\n",
    "    ([-2, 3, -1], 1),\n",
    "    ([1, 1, -1, -1], 1),\n",
    "    ([1, 1, 1, 1, -1, -1, -1, -1, -1, -1, -1], 1),\n",
    "    ([1, 1, 1, 1, -1, -1, -1, -1, -1], 1),\n",
    "    ([1, 1, 1, 1, -5], 1),\n",
    "    ([-3, -3, 4, -6, 2, -3, -3], 1),\n",
    "    ([4, -6, 2], 0),\n",
    "    ([1, 2, -1, -1, -1, 1, 1, -1, -1], 1),\n",
    "    ([3, -4, 2, -3, 2], 1),\n",
    "    ([-1, 1, 1, 1, 1, 1, 1, -1], 1),\n",
    "    ([1, 1, 1, 1, 1, 1], 1),\n",
    "    ([-1], 0),\n",
    "    ([1], 0),\n",
    "    ([0, 0, 0, 0, 0, 0, 0], 0),\n",
    "    ([], 0),\n",
    "    ([-1, -1, -1, 1, -1, -1, -1], 0),\n",
    "    ([10, 10, -100, -100, 10, 10], 2),\n",
    "    ([-3, 1, 4], 1),\n",
    "    ([10, 10, -100, -100, 10, 10, -1, -2, -3, -100], 2),\n",
    "    ([10, 10, -100, 10, 10, -100, 1000], 1),\n",
    "    ([-1, -1, -1, -1, -1], 0),\n",
    "]\n",
    "\n",
    "def run_tests():\n",
    "    for i, (arr, esperado) in enumerate(tests, 1):\n",
    "        resultado = algoritmo_greedy(arr)\n",
    "        if resultado == esperado:\n",
    "            print(f\"✅ Test {i} OK: resultado={resultado}\")\n",
    "        else:\n",
    "            print(f\"❌ Test {i} FAIL: esperado={esperado}, obtenido={resultado}, entrada={arr}\")\n",
    "\n",
    "run_tests()\n"
   ]
  }
 ],
 "metadata": {
  "kernelspec": {
   "display_name": "py310",
   "language": "python",
   "name": "python3"
  },
  "language_info": {
   "codemirror_mode": {
    "name": "ipython",
    "version": 3
   },
   "file_extension": ".py",
   "mimetype": "text/x-python",
   "name": "python",
   "nbconvert_exporter": "python",
   "pygments_lexer": "ipython3",
   "version": "3.10.18"
  }
 },
 "nbformat": 4,
 "nbformat_minor": 5
}
